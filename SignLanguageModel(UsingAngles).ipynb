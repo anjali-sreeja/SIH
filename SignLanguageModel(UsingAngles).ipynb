{
 "cells": [
  {
   "cell_type": "code",
   "execution_count": 2,
   "id": "770e94d5-4fa4-457c-acae-9b8b64ab5363",
   "metadata": {},
   "outputs": [],
   "source": [
    "import cv2\n",
    "import os\n",
    "import numpy as np\n",
    "import mediapipe as mp\n",
    "from matplotlib import pyplot as plt\n",
    "import time"
   ]
  },
  {
   "cell_type": "code",
   "execution_count": 3,
   "id": "edd3db6d-8049-41be-9693-f3bc0dd8025c",
   "metadata": {},
   "outputs": [],
   "source": [
    "mp_drawing = mp.solutions.drawing_utils\n",
    "mp_holistic = mp.solutions.holistic"
   ]
  },
  {
   "cell_type": "code",
   "execution_count": 4,
   "id": "eba3f48c-596b-44b8-8122-7f8cd567c6c2",
   "metadata": {},
   "outputs": [],
   "source": [
    "def mediapipe_detection(frame, model):\n",
    "    image = cv2.cvtColor(frame, cv2.COLOR_BGR2RGB)\n",
    "    image.flags.writeable = False\n",
    "    results = model.process(image)\n",
    "    image.flags.writeable = True\n",
    "    image = cv2.cvtColor(frame, cv2.COLOR_RGB2BGR)\n",
    "    return image, results"
   ]
  },
  {
   "cell_type": "code",
   "execution_count": 5,
   "id": "0c955040-27d0-4578-95e6-b98e45f255fc",
   "metadata": {},
   "outputs": [],
   "source": [
    "def draw_landmarks(image, results):\n",
    "    mp_drawing.draw_landmarks(image, results.pose_landmarks, mp_holistic.POSE_CONNECTIONS)\n",
    "    mp_drawing.draw_landmarks(image, results.right_hand_landmarks, mp_holistic.HAND_CONNECTIONS)\n",
    "    mp_drawing.draw_landmarks(image, results.left_hand_landmarks, mp_holistic.HAND_CONNECTIONS)"
   ]
  },
  {
   "cell_type": "code",
   "execution_count": 6,
   "id": "aad72119-1e96-496b-87b4-a82995baba46",
   "metadata": {},
   "outputs": [],
   "source": [
    "def extract_landmarks(results):\n",
    "    try:\n",
    "        landmarks = results.pose_landmarks.landmark\n",
    "    except:\n",
    "        pass\n",
    "\n",
    "    return landmarks"
   ]
  },
  {
   "cell_type": "code",
   "execution_count": 7,
   "id": "68de6b5b-fbd0-4f7e-b4ff-7eb3df007872",
   "metadata": {},
   "outputs": [],
   "source": [
    "def calc_angles(a,b,c):\n",
    "    a = np.array(a)\n",
    "    b = np.array(b)\n",
    "    c = np.array(c)\n",
    "\n",
    "    radians = np.arctan2(c[1]-b[1], c[0]-b[0]) - np.arctan2(a[1]-b[1], a[0]-b[0])\n",
    "    angle = np.abs(radians*180.0/np.pi)\n",
    "\n",
    "    if angle>180.0:\n",
    "        angle = 360.0 - angle\n",
    "\n",
    "    return angle"
   ]
  },
  {
   "cell_type": "code",
   "execution_count": 8,
   "id": "3be23747-5c5c-46aa-af49-a47f3b61c7c8",
   "metadata": {},
   "outputs": [],
   "source": [
    "#USING ANGLES\n",
    "\n",
    "cam = cv2.VideoCapture(0)\n",
    "with mp_holistic.Holistic(min_detection_confidence=0.8, min_tracking_confidence=0.5) as holistic:\n",
    "    while cam.isOpened():\n",
    "        ret, frame = cam.read()\n",
    "    \n",
    "        image, results = mediapipe_detection(frame, holistic)\n",
    "        \n",
    "        landmarks = extract_landmarks(results)\n",
    "        draw_landmarks(image, results)\n",
    "        \n",
    "        shoulder = [landmarks[mp_holistic.PoseLandmark.LEFT_SHOULDER.value].x, landmarks[mp_holistic.PoseLandmark.LEFT_SHOULDER.value].y]\n",
    "        elbow = [landmarks[mp_holistic.PoseLandmark.LEFT_ELBOW.value].x, landmarks[mp_holistic.PoseLandmark.LEFT_ELBOW.value].y]\n",
    "        wrist = [landmarks[mp_holistic.PoseLandmark.LEFT_WRIST.value].x, landmarks[mp_holistic.PoseLandmark.LEFT_WRIST.value].y]\n",
    "\n",
    "        angle = calc_angles(shoulder, elbow, wrist)\n",
    "\n",
    "        cv2.putText(image, str(angle), tuple(np.multiply(elbow ,[640, 480]).astype(int)), cv2.FONT_HERSHEY_SIMPLEX, 0.5, (255,255,255), 2, cv2.LINE_AA)\n",
    "        cv2.imshow(\"Sign Language Converter\", cv2.cvtColor(image, cv2.COLOR_BGR2RGB))\n",
    "        #print(results.right_hand_landmarks)\n",
    "        \n",
    "        \n",
    "        if cv2.waitKey(10) & 0xFF == ord('q'):\n",
    "            break\n",
    "\n",
    "cam.release()\n",
    "cv2.destroyAllWindows()"
   ]
  },
  {
   "cell_type": "code",
   "execution_count": null,
   "id": "695661eb-72f7-460c-a2b5-b0fae4402e46",
   "metadata": {},
   "outputs": [],
   "source": [
    "for i in mp_holistic.PoseLandmark:\n",
    "    print(i)"
   ]
  },
  {
   "cell_type": "code",
   "execution_count": 25,
   "id": "c52cb039-6498-4e1c-b339-1f12340c6b0f",
   "metadata": {},
   "outputs": [
    {
     "data": {
      "text/plain": [
       "x: 0.6480722427368164\n",
       "y: 0.672619640827179\n",
       "z: -0.6273075342178345\n",
       "visibility: 0.9991098046302795"
      ]
     },
     "execution_count": 25,
     "metadata": {},
     "output_type": "execute_result"
    }
   ],
   "source": [
    "landmarks[mp_holistic.PoseLandmark.LEFT_SHOULDER.value]"
   ]
  },
  {
   "cell_type": "code",
   "execution_count": 26,
   "id": "2bd367e3-f67e-46d6-9063-4d429cd2cde0",
   "metadata": {},
   "outputs": [
    {
     "data": {
      "text/plain": [
       "x: 0.7651079297065735\n",
       "y: 0.9478564858436584\n",
       "z: -0.45650210976600647\n",
       "visibility: 0.6694594621658325"
      ]
     },
     "execution_count": 26,
     "metadata": {},
     "output_type": "execute_result"
    }
   ],
   "source": [
    "landmarks[mp_holistic.PoseLandmark.LEFT_ELBOW.value]"
   ]
  },
  {
   "cell_type": "code",
   "execution_count": 27,
   "id": "780b39b3-0996-4f55-bde6-a211d5dc526e",
   "metadata": {},
   "outputs": [
    {
     "data": {
      "text/plain": [
       "x: 0.831436276435852\n",
       "y: 1.3195998668670654\n",
       "z: -0.6808949112892151\n",
       "visibility: 0.14208954572677612"
      ]
     },
     "execution_count": 27,
     "metadata": {},
     "output_type": "execute_result"
    }
   ],
   "source": [
    "landmarks[mp_holistic.PoseLandmark.LEFT_WRIST.value]"
   ]
  },
  {
   "cell_type": "code",
   "execution_count": 33,
   "id": "54518a9b-ca5e-4c45-a2b7-d2b39aa4f75c",
   "metadata": {},
   "outputs": [],
   "source": []
  },
  {
   "cell_type": "code",
   "execution_count": 34,
   "id": "1753b71d-448c-4bf9-b48c-ed029126e227",
   "metadata": {},
   "outputs": [
    {
     "data": {
      "text/plain": [
       "167.0804707000996"
      ]
     },
     "execution_count": 34,
     "metadata": {},
     "output_type": "execute_result"
    }
   ],
   "source": [
    "calc_angles(shoulder, elbow, wrist)"
   ]
  },
  {
   "cell_type": "code",
   "execution_count": 131,
   "id": "7f031a83-cbb3-4a6f-bf04-c31fa80ed593",
   "metadata": {},
   "outputs": [],
   "source": [
    "DATA_PATH = os.path.join('MP_data')\n",
    "actions = np.array([\"thumbsUp\", \"thumbsDown\", \"thankYou\"])\n",
    "no_sequences = 30\n",
    "sequence_length = 30"
   ]
  },
  {
   "cell_type": "code",
   "execution_count": 132,
   "id": "5727bdc1-3d4d-4309-b07e-8d531a355c14",
   "metadata": {},
   "outputs": [],
   "source": [
    "for action in actions:\n",
    "    for sequence in range(no_sequences):\n",
    "        try:\n",
    "            os.makedirs(os.path.join(DATA_PATH, action, str(sequence)))\n",
    "        except:\n",
    "            pass"
   ]
  },
  {
   "cell_type": "code",
   "execution_count": 133,
   "id": "832cf3db-2b48-41ea-bd95-71655a66bbbe",
   "metadata": {},
   "outputs": [],
   "source": [
    "#Record\n",
    "\n",
    "cam = cv2.VideoCapture(0)\n",
    "\n",
    "with mp_holistic.Holistic(min_detection_confidence=0.8, min_tracking_confidence=0.5) as holistic:\n",
    "    \n",
    "    for action in actions:\n",
    "        for sequence in range(no_sequences):\n",
    "            for frame_no in range(sequence_length):\n",
    "                \n",
    "                ret, frame = cam.read()\n",
    "                image, results = mediapipe_detection(frame, holistic)\n",
    "                draw_landmarks(image, results)\n",
    "                \n",
    "                #print(results.right_hand_landmarks)\n",
    "                #extract_keypoints(results)\n",
    "                if frame_no == 0:\n",
    "                    cv2.putText(image, \"Collecting Video for {} Video number {}\".format(action, sequence), (15,12), cv2.FONT_HERSHEY_SIMPLEX, 0.5, (255,0,0), 1, cv2.LINE_AA)\n",
    "                    cv2.waitKey(2000)\n",
    "                else:\n",
    "                     cv2.putText(image, \"Collecting Video for {} Video number {}\".format(action, sequence), (15,12), cv2.FONT_HERSHEY_SIMPLEX, 0.5, (255,0,0), 1, cv2.LINE_AA)\n",
    "\n",
    "                keypoints = extract_keypoints(results)\n",
    "                npy_path = os.path.join(DATA_PATH, action, str(sequence), str(frame_no))\n",
    "                np.save(npy_path, keypoints)\n",
    "                \n",
    "                cv2.imshow(\"Input Sign Language\", cv2.cvtColor(image, cv2.COLOR_BGR2RGB))\n",
    "                \n",
    "                if cv2.waitKey(10) & 0xFF == ord('q'):\n",
    "                    cam.release()\n",
    "                    cv2.destroyAllWindows()\n",
    "\n",
    "    cam.release()\n",
    "    cv2.destroyAllWindows()"
   ]
  },
  {
   "cell_type": "code",
   "execution_count": 94,
   "id": "dc638717-cfbd-43ba-8fb2-2d0a7a1c15eb",
   "metadata": {},
   "outputs": [],
   "source": [
    "cam.release()\n",
    "cv2.destroyAllWindows()     ###OPTIONAL OPTIONAL"
   ]
  },
  {
   "cell_type": "code",
   "execution_count": 134,
   "id": "c2187d9f-a5d0-45a7-b2a5-4bc4eab9422d",
   "metadata": {},
   "outputs": [],
   "source": [
    "from sklearn.model_selection import train_test_split\n",
    "from tensorflow.keras.utils import to_categorical"
   ]
  },
  {
   "cell_type": "code",
   "execution_count": 135,
   "id": "4629ac62-54d5-40b9-911e-0ff52be4ed52",
   "metadata": {},
   "outputs": [],
   "source": [
    "label_map = {label: num for num, label in enumerate(actions)}"
   ]
  },
  {
   "cell_type": "code",
   "execution_count": 136,
   "id": "c581efb9-16f1-4bb3-8dd4-a33428a9e885",
   "metadata": {},
   "outputs": [],
   "source": [
    "sequences, labels = [], []\n",
    "for action in actions:\n",
    "    for sequence in range(no_sequences):\n",
    "        window = []\n",
    "        for frame_no in range(sequence_length):\n",
    "            res = np.load(os.path.join(DATA_PATH, action, str(sequence), \"{}.npy\".format(frame_no)))\n",
    "            window.append(res)\n",
    "        sequences.append(window)\n",
    "        labels.append(label_map[action])"
   ]
  },
  {
   "cell_type": "code",
   "execution_count": 137,
   "id": "cdf2e9d5-bc3e-4c01-92ce-3c5d05bc76f5",
   "metadata": {},
   "outputs": [],
   "source": [
    "x = np.array(sequences)\n",
    "y = np.array(labels)\n",
    "y = to_categorical(labels).astype(int)"
   ]
  },
  {
   "cell_type": "code",
   "execution_count": 138,
   "id": "1acd5152-c498-4486-ab45-9386b2773812",
   "metadata": {},
   "outputs": [],
   "source": [
    "X_train, X_test, Y_train, Y_test = train_test_split(x, y, test_size=0.05)"
   ]
  },
  {
   "cell_type": "code",
   "execution_count": 100,
   "id": "e1a6c38c-8810-4608-af8e-f43ba6110990",
   "metadata": {},
   "outputs": [
    {
     "data": {
      "text/plain": [
       "array([[1, 0, 0],\n",
       "       [0, 1, 0],\n",
       "       [1, 0, 0],\n",
       "       [0, 0, 1],\n",
       "       [0, 1, 0]])"
      ]
     },
     "execution_count": 100,
     "metadata": {},
     "output_type": "execute_result"
    }
   ],
   "source": [
    "Y_test"
   ]
  },
  {
   "cell_type": "code",
   "execution_count": 142,
   "id": "0789aff7-f80c-4153-9e5d-cb5ab5885469",
   "metadata": {},
   "outputs": [],
   "source": [
    "from tensorflow.keras.models import Sequential\n",
    "from tensorflow.keras.layers import LSTM, Dense\n",
    "from tensorflow.keras.callbacks import TensorBoard"
   ]
  },
  {
   "cell_type": "code",
   "execution_count": 143,
   "id": "867e6801-d1b3-4802-af26-b7762537f1f1",
   "metadata": {},
   "outputs": [],
   "source": [
    "log_dir = os.path.join(\"Logs\")\n",
    "tb_callback = TensorBoard(log_dir=log_dir)"
   ]
  },
  {
   "cell_type": "code",
   "execution_count": 144,
   "id": "a9f50a85-e986-49d3-9e3f-d268687453bb",
   "metadata": {},
   "outputs": [
    {
     "name": "stdout",
     "output_type": "stream",
     "text": [
      "WARNING:tensorflow:Layer lstm_9 will not use cuDNN kernels since it doesn't meet the criteria. It will use a generic GPU kernel as fallback when running on GPU.\n",
      "WARNING:tensorflow:Layer lstm_10 will not use cuDNN kernels since it doesn't meet the criteria. It will use a generic GPU kernel as fallback when running on GPU.\n",
      "WARNING:tensorflow:Layer lstm_11 will not use cuDNN kernels since it doesn't meet the criteria. It will use a generic GPU kernel as fallback when running on GPU.\n"
     ]
    }
   ],
   "source": [
    "model = Sequential()\n",
    "model.add(LSTM(64, return_sequences=True, activation=\"relu\", input_shape=(30, 258)))\n",
    "model.add(LSTM(128, return_sequences=True, activation=\"relu\"))\n",
    "model.add(LSTM(64, return_sequences=False, activation=\"relu\"))\n",
    "model.add(Dense(64, activation=\"relu\"))\n",
    "model.add(Dense(32, activation=\"relu\"))\n",
    "model.add(Dense(actions.shape[0], activation=\"softmax\")) #will return a list of probability i.e [0.7, 0.2, 0.1] where sum is 1 and action[0] which is thumbsUp is the prediction with 70% sure"
   ]
  },
  {
   "cell_type": "code",
   "execution_count": 145,
   "id": "84a5941b-07b9-48e1-abd6-d2248aadb9c8",
   "metadata": {},
   "outputs": [],
   "source": [
    "model.compile(optimizer=\"Adam\", loss=\"categorical_crossentropy\", metrics=[\"categorical_accuracy\"])"
   ]
  },
  {
   "cell_type": "code",
   "execution_count": 161,
   "id": "e9c0f292-2fbb-4f8a-b983-25d6483936a1",
   "metadata": {},
   "outputs": [
    {
     "name": "stdout",
     "output_type": "stream",
     "text": [
      "Epoch 1/2000\n",
      "3/3 [==============================] - 1s 231ms/step - loss: 2.7628e-07 - categorical_accuracy: 1.0000\n",
      "Epoch 2/2000\n",
      "3/3 [==============================] - 1s 242ms/step - loss: 2.7348e-07 - categorical_accuracy: 1.0000\n",
      "Epoch 3/2000\n",
      "3/3 [==============================] - 1s 277ms/step - loss: 2.7067e-07 - categorical_accuracy: 1.0000\n",
      "Epoch 4/2000\n",
      "3/3 [==============================] - 1s 236ms/step - loss: 2.7067e-07 - categorical_accuracy: 1.0000\n",
      "Epoch 5/2000\n",
      "3/3 [==============================] - 1s 233ms/step - loss: 2.6787e-07 - categorical_accuracy: 1.0000\n",
      "Epoch 6/2000\n",
      "3/3 [==============================] - 1s 222ms/step - loss: 2.6506e-07 - categorical_accuracy: 1.0000\n",
      "Epoch 7/2000\n",
      "3/3 [==============================] - 1s 221ms/step - loss: 2.6366e-07 - categorical_accuracy: 1.0000\n",
      "Epoch 8/2000\n",
      "3/3 [==============================] - 1s 251ms/step - loss: 2.6226e-07 - categorical_accuracy: 1.0000\n",
      "Epoch 9/2000\n",
      "3/3 [==============================] - 1s 277ms/step - loss: 2.5945e-07 - categorical_accuracy: 1.0000\n",
      "Epoch 10/2000\n",
      "3/3 [==============================] - 1s 239ms/step - loss: 2.5805e-07 - categorical_accuracy: 1.0000\n",
      "Epoch 11/2000\n",
      "3/3 [==============================] - 1s 245ms/step - loss: 2.5384e-07 - categorical_accuracy: 1.0000\n",
      "Epoch 12/2000\n",
      "3/3 [==============================] - 1s 277ms/step - loss: 2.5104e-07 - categorical_accuracy: 1.0000\n",
      "Epoch 13/2000\n",
      "3/3 [==============================] - 1s 266ms/step - loss: 2.4964e-07 - categorical_accuracy: 1.0000\n",
      "Epoch 14/2000\n",
      "3/3 [==============================] - 1s 296ms/step - loss: 2.4683e-07 - categorical_accuracy: 1.0000\n",
      "Epoch 15/2000\n",
      "3/3 [==============================] - 1s 237ms/step - loss: 2.4403e-07 - categorical_accuracy: 1.0000\n",
      "Epoch 16/2000\n",
      "3/3 [==============================] - 1s 298ms/step - loss: 2.4262e-07 - categorical_accuracy: 1.0000\n",
      "Epoch 17/2000\n",
      "3/3 [==============================] - 1s 270ms/step - loss: 2.4262e-07 - categorical_accuracy: 1.0000\n",
      "Epoch 18/2000\n",
      "3/3 [==============================] - 1s 272ms/step - loss: 2.3842e-07 - categorical_accuracy: 1.0000\n",
      "Epoch 19/2000\n",
      "3/3 [==============================] - 1s 323ms/step - loss: 2.3702e-07 - categorical_accuracy: 1.0000\n",
      "Epoch 20/2000\n",
      "3/3 [==============================] - 1s 310ms/step - loss: 2.3561e-07 - categorical_accuracy: 1.0000\n",
      "Epoch 21/2000\n",
      "3/3 [==============================] - 1s 290ms/step - loss: 2.3421e-07 - categorical_accuracy: 1.0000\n",
      "Epoch 22/2000\n",
      "3/3 [==============================] - 1s 233ms/step - loss: 2.3281e-07 - categorical_accuracy: 1.0000\n",
      "Epoch 23/2000\n",
      "3/3 [==============================] - 1s 267ms/step - loss: 2.3141e-07 - categorical_accuracy: 1.0000\n",
      "Epoch 24/2000\n",
      "3/3 [==============================] - 1s 243ms/step - loss: 2.2860e-07 - categorical_accuracy: 1.0000\n",
      "Epoch 25/2000\n",
      "3/3 [==============================] - 1s 296ms/step - loss: 2.2580e-07 - categorical_accuracy: 1.0000\n",
      "Epoch 26/2000\n",
      "3/3 [==============================] - 1s 265ms/step - loss: 2.2580e-07 - categorical_accuracy: 1.0000\n",
      "Epoch 27/2000\n",
      "3/3 [==============================] - 1s 238ms/step - loss: 2.2439e-07 - categorical_accuracy: 1.0000\n",
      "Epoch 28/2000\n",
      "3/3 [==============================] - 1s 339ms/step - loss: 2.2299e-07 - categorical_accuracy: 1.0000\n",
      "Epoch 29/2000\n",
      "3/3 [==============================] - 1s 241ms/step - loss: 2.2299e-07 - categorical_accuracy: 1.0000\n",
      "Epoch 30/2000\n",
      "3/3 [==============================] - 1s 251ms/step - loss: 2.1738e-07 - categorical_accuracy: 1.0000\n",
      "Epoch 31/2000\n",
      "2/3 [===================>..........] - ETA: 0s - loss: 2.4959e-07 - categorical_accuracy: 1.0000"
     ]
    },
    {
     "ename": "KeyboardInterrupt",
     "evalue": "",
     "output_type": "error",
     "traceback": [
      "\u001b[1;31m---------------------------------------------------------------------------\u001b[0m",
      "\u001b[1;31mKeyboardInterrupt\u001b[0m                         Traceback (most recent call last)",
      "\u001b[1;32m~\\AppData\\Local\\Temp\\ipykernel_15344\\3311747845.py\u001b[0m in \u001b[0;36m<module>\u001b[1;34m\u001b[0m\n\u001b[1;32m----> 1\u001b[1;33m \u001b[0mmodel\u001b[0m\u001b[1;33m.\u001b[0m\u001b[0mfit\u001b[0m\u001b[1;33m(\u001b[0m\u001b[0mX_train\u001b[0m\u001b[1;33m,\u001b[0m \u001b[0mY_train\u001b[0m\u001b[1;33m,\u001b[0m \u001b[0mepochs\u001b[0m\u001b[1;33m=\u001b[0m\u001b[1;36m2000\u001b[0m\u001b[1;33m,\u001b[0m \u001b[0mcallbacks\u001b[0m\u001b[1;33m=\u001b[0m\u001b[1;33m[\u001b[0m\u001b[0mtb_callback\u001b[0m\u001b[1;33m]\u001b[0m\u001b[1;33m)\u001b[0m\u001b[1;33m\u001b[0m\u001b[1;33m\u001b[0m\u001b[0m\n\u001b[0m",
      "\u001b[1;32m~\\.conda\\envs\\condamp\\lib\\site-packages\\keras\\utils\\traceback_utils.py\u001b[0m in \u001b[0;36merror_handler\u001b[1;34m(*args, **kwargs)\u001b[0m\n\u001b[0;32m     63\u001b[0m         \u001b[0mfiltered_tb\u001b[0m \u001b[1;33m=\u001b[0m \u001b[1;32mNone\u001b[0m\u001b[1;33m\u001b[0m\u001b[1;33m\u001b[0m\u001b[0m\n\u001b[0;32m     64\u001b[0m         \u001b[1;32mtry\u001b[0m\u001b[1;33m:\u001b[0m\u001b[1;33m\u001b[0m\u001b[1;33m\u001b[0m\u001b[0m\n\u001b[1;32m---> 65\u001b[1;33m             \u001b[1;32mreturn\u001b[0m \u001b[0mfn\u001b[0m\u001b[1;33m(\u001b[0m\u001b[1;33m*\u001b[0m\u001b[0margs\u001b[0m\u001b[1;33m,\u001b[0m \u001b[1;33m**\u001b[0m\u001b[0mkwargs\u001b[0m\u001b[1;33m)\u001b[0m\u001b[1;33m\u001b[0m\u001b[1;33m\u001b[0m\u001b[0m\n\u001b[0m\u001b[0;32m     66\u001b[0m         \u001b[1;32mexcept\u001b[0m \u001b[0mException\u001b[0m \u001b[1;32mas\u001b[0m \u001b[0me\u001b[0m\u001b[1;33m:\u001b[0m\u001b[1;33m\u001b[0m\u001b[1;33m\u001b[0m\u001b[0m\n\u001b[0;32m     67\u001b[0m             \u001b[0mfiltered_tb\u001b[0m \u001b[1;33m=\u001b[0m \u001b[0m_process_traceback_frames\u001b[0m\u001b[1;33m(\u001b[0m\u001b[0me\u001b[0m\u001b[1;33m.\u001b[0m\u001b[0m__traceback__\u001b[0m\u001b[1;33m)\u001b[0m\u001b[1;33m\u001b[0m\u001b[1;33m\u001b[0m\u001b[0m\n",
      "\u001b[1;32m~\\.conda\\envs\\condamp\\lib\\site-packages\\keras\\engine\\training.py\u001b[0m in \u001b[0;36mfit\u001b[1;34m(self, x, y, batch_size, epochs, verbose, callbacks, validation_split, validation_data, shuffle, class_weight, sample_weight, initial_epoch, steps_per_epoch, validation_steps, validation_batch_size, validation_freq, max_queue_size, workers, use_multiprocessing)\u001b[0m\n\u001b[0;32m   1562\u001b[0m                         ):\n\u001b[0;32m   1563\u001b[0m                             \u001b[0mcallbacks\u001b[0m\u001b[1;33m.\u001b[0m\u001b[0mon_train_batch_begin\u001b[0m\u001b[1;33m(\u001b[0m\u001b[0mstep\u001b[0m\u001b[1;33m)\u001b[0m\u001b[1;33m\u001b[0m\u001b[1;33m\u001b[0m\u001b[0m\n\u001b[1;32m-> 1564\u001b[1;33m                             \u001b[0mtmp_logs\u001b[0m \u001b[1;33m=\u001b[0m \u001b[0mself\u001b[0m\u001b[1;33m.\u001b[0m\u001b[0mtrain_function\u001b[0m\u001b[1;33m(\u001b[0m\u001b[0miterator\u001b[0m\u001b[1;33m)\u001b[0m\u001b[1;33m\u001b[0m\u001b[1;33m\u001b[0m\u001b[0m\n\u001b[0m\u001b[0;32m   1565\u001b[0m                             \u001b[1;32mif\u001b[0m \u001b[0mdata_handler\u001b[0m\u001b[1;33m.\u001b[0m\u001b[0mshould_sync\u001b[0m\u001b[1;33m:\u001b[0m\u001b[1;33m\u001b[0m\u001b[1;33m\u001b[0m\u001b[0m\n\u001b[0;32m   1566\u001b[0m                                 \u001b[0mcontext\u001b[0m\u001b[1;33m.\u001b[0m\u001b[0masync_wait\u001b[0m\u001b[1;33m(\u001b[0m\u001b[1;33m)\u001b[0m\u001b[1;33m\u001b[0m\u001b[1;33m\u001b[0m\u001b[0m\n",
      "\u001b[1;32m~\\.conda\\envs\\condamp\\lib\\site-packages\\tensorflow\\python\\util\\traceback_utils.py\u001b[0m in \u001b[0;36merror_handler\u001b[1;34m(*args, **kwargs)\u001b[0m\n\u001b[0;32m    148\u001b[0m     \u001b[0mfiltered_tb\u001b[0m \u001b[1;33m=\u001b[0m \u001b[1;32mNone\u001b[0m\u001b[1;33m\u001b[0m\u001b[1;33m\u001b[0m\u001b[0m\n\u001b[0;32m    149\u001b[0m     \u001b[1;32mtry\u001b[0m\u001b[1;33m:\u001b[0m\u001b[1;33m\u001b[0m\u001b[1;33m\u001b[0m\u001b[0m\n\u001b[1;32m--> 150\u001b[1;33m       \u001b[1;32mreturn\u001b[0m \u001b[0mfn\u001b[0m\u001b[1;33m(\u001b[0m\u001b[1;33m*\u001b[0m\u001b[0margs\u001b[0m\u001b[1;33m,\u001b[0m \u001b[1;33m**\u001b[0m\u001b[0mkwargs\u001b[0m\u001b[1;33m)\u001b[0m\u001b[1;33m\u001b[0m\u001b[1;33m\u001b[0m\u001b[0m\n\u001b[0m\u001b[0;32m    151\u001b[0m     \u001b[1;32mexcept\u001b[0m \u001b[0mException\u001b[0m \u001b[1;32mas\u001b[0m \u001b[0me\u001b[0m\u001b[1;33m:\u001b[0m\u001b[1;33m\u001b[0m\u001b[1;33m\u001b[0m\u001b[0m\n\u001b[0;32m    152\u001b[0m       \u001b[0mfiltered_tb\u001b[0m \u001b[1;33m=\u001b[0m \u001b[0m_process_traceback_frames\u001b[0m\u001b[1;33m(\u001b[0m\u001b[0me\u001b[0m\u001b[1;33m.\u001b[0m\u001b[0m__traceback__\u001b[0m\u001b[1;33m)\u001b[0m\u001b[1;33m\u001b[0m\u001b[1;33m\u001b[0m\u001b[0m\n",
      "\u001b[1;32m~\\.conda\\envs\\condamp\\lib\\site-packages\\tensorflow\\python\\eager\\def_function.py\u001b[0m in \u001b[0;36m__call__\u001b[1;34m(self, *args, **kwds)\u001b[0m\n\u001b[0;32m    913\u001b[0m \u001b[1;33m\u001b[0m\u001b[0m\n\u001b[0;32m    914\u001b[0m       \u001b[1;32mwith\u001b[0m \u001b[0mOptionalXlaContext\u001b[0m\u001b[1;33m(\u001b[0m\u001b[0mself\u001b[0m\u001b[1;33m.\u001b[0m\u001b[0m_jit_compile\u001b[0m\u001b[1;33m)\u001b[0m\u001b[1;33m:\u001b[0m\u001b[1;33m\u001b[0m\u001b[1;33m\u001b[0m\u001b[0m\n\u001b[1;32m--> 915\u001b[1;33m         \u001b[0mresult\u001b[0m \u001b[1;33m=\u001b[0m \u001b[0mself\u001b[0m\u001b[1;33m.\u001b[0m\u001b[0m_call\u001b[0m\u001b[1;33m(\u001b[0m\u001b[1;33m*\u001b[0m\u001b[0margs\u001b[0m\u001b[1;33m,\u001b[0m \u001b[1;33m**\u001b[0m\u001b[0mkwds\u001b[0m\u001b[1;33m)\u001b[0m\u001b[1;33m\u001b[0m\u001b[1;33m\u001b[0m\u001b[0m\n\u001b[0m\u001b[0;32m    916\u001b[0m \u001b[1;33m\u001b[0m\u001b[0m\n\u001b[0;32m    917\u001b[0m       \u001b[0mnew_tracing_count\u001b[0m \u001b[1;33m=\u001b[0m \u001b[0mself\u001b[0m\u001b[1;33m.\u001b[0m\u001b[0mexperimental_get_tracing_count\u001b[0m\u001b[1;33m(\u001b[0m\u001b[1;33m)\u001b[0m\u001b[1;33m\u001b[0m\u001b[1;33m\u001b[0m\u001b[0m\n",
      "\u001b[1;32m~\\.conda\\envs\\condamp\\lib\\site-packages\\tensorflow\\python\\eager\\def_function.py\u001b[0m in \u001b[0;36m_call\u001b[1;34m(self, *args, **kwds)\u001b[0m\n\u001b[0;32m    945\u001b[0m       \u001b[1;31m# In this case we have created variables on the first call, so we run the\u001b[0m\u001b[1;33m\u001b[0m\u001b[1;33m\u001b[0m\u001b[1;33m\u001b[0m\u001b[0m\n\u001b[0;32m    946\u001b[0m       \u001b[1;31m# defunned version which is guaranteed to never create variables.\u001b[0m\u001b[1;33m\u001b[0m\u001b[1;33m\u001b[0m\u001b[1;33m\u001b[0m\u001b[0m\n\u001b[1;32m--> 947\u001b[1;33m       \u001b[1;32mreturn\u001b[0m \u001b[0mself\u001b[0m\u001b[1;33m.\u001b[0m\u001b[0m_stateless_fn\u001b[0m\u001b[1;33m(\u001b[0m\u001b[1;33m*\u001b[0m\u001b[0margs\u001b[0m\u001b[1;33m,\u001b[0m \u001b[1;33m**\u001b[0m\u001b[0mkwds\u001b[0m\u001b[1;33m)\u001b[0m  \u001b[1;31m# pylint: disable=not-callable\u001b[0m\u001b[1;33m\u001b[0m\u001b[1;33m\u001b[0m\u001b[0m\n\u001b[0m\u001b[0;32m    948\u001b[0m     \u001b[1;32melif\u001b[0m \u001b[0mself\u001b[0m\u001b[1;33m.\u001b[0m\u001b[0m_stateful_fn\u001b[0m \u001b[1;32mis\u001b[0m \u001b[1;32mnot\u001b[0m \u001b[1;32mNone\u001b[0m\u001b[1;33m:\u001b[0m\u001b[1;33m\u001b[0m\u001b[1;33m\u001b[0m\u001b[0m\n\u001b[0;32m    949\u001b[0m       \u001b[1;31m# Release the lock early so that multiple threads can perform the call\u001b[0m\u001b[1;33m\u001b[0m\u001b[1;33m\u001b[0m\u001b[1;33m\u001b[0m\u001b[0m\n",
      "\u001b[1;32m~\\.conda\\envs\\condamp\\lib\\site-packages\\tensorflow\\python\\eager\\function.py\u001b[0m in \u001b[0;36m__call__\u001b[1;34m(self, *args, **kwargs)\u001b[0m\n\u001b[0;32m   2495\u001b[0m        filtered_flat_args) = self._maybe_define_function(args, kwargs)\n\u001b[0;32m   2496\u001b[0m     return graph_function._call_flat(\n\u001b[1;32m-> 2497\u001b[1;33m         filtered_flat_args, captured_inputs=graph_function.captured_inputs)  # pylint: disable=protected-access\n\u001b[0m\u001b[0;32m   2498\u001b[0m \u001b[1;33m\u001b[0m\u001b[0m\n\u001b[0;32m   2499\u001b[0m   \u001b[1;33m@\u001b[0m\u001b[0mproperty\u001b[0m\u001b[1;33m\u001b[0m\u001b[1;33m\u001b[0m\u001b[0m\n",
      "\u001b[1;32m~\\.conda\\envs\\condamp\\lib\\site-packages\\tensorflow\\python\\eager\\function.py\u001b[0m in \u001b[0;36m_call_flat\u001b[1;34m(self, args, captured_inputs, cancellation_manager)\u001b[0m\n\u001b[0;32m   1861\u001b[0m       \u001b[1;31m# No tape is watching; skip to running the function.\u001b[0m\u001b[1;33m\u001b[0m\u001b[1;33m\u001b[0m\u001b[1;33m\u001b[0m\u001b[0m\n\u001b[0;32m   1862\u001b[0m       return self._build_call_outputs(self._inference_function.call(\n\u001b[1;32m-> 1863\u001b[1;33m           ctx, args, cancellation_manager=cancellation_manager))\n\u001b[0m\u001b[0;32m   1864\u001b[0m     forward_backward = self._select_forward_and_backward_functions(\n\u001b[0;32m   1865\u001b[0m         \u001b[0margs\u001b[0m\u001b[1;33m,\u001b[0m\u001b[1;33m\u001b[0m\u001b[1;33m\u001b[0m\u001b[0m\n",
      "\u001b[1;32m~\\.conda\\envs\\condamp\\lib\\site-packages\\tensorflow\\python\\eager\\function.py\u001b[0m in \u001b[0;36mcall\u001b[1;34m(self, ctx, args, cancellation_manager)\u001b[0m\n\u001b[0;32m    502\u001b[0m               \u001b[0minputs\u001b[0m\u001b[1;33m=\u001b[0m\u001b[0margs\u001b[0m\u001b[1;33m,\u001b[0m\u001b[1;33m\u001b[0m\u001b[1;33m\u001b[0m\u001b[0m\n\u001b[0;32m    503\u001b[0m               \u001b[0mattrs\u001b[0m\u001b[1;33m=\u001b[0m\u001b[0mattrs\u001b[0m\u001b[1;33m,\u001b[0m\u001b[1;33m\u001b[0m\u001b[1;33m\u001b[0m\u001b[0m\n\u001b[1;32m--> 504\u001b[1;33m               ctx=ctx)\n\u001b[0m\u001b[0;32m    505\u001b[0m         \u001b[1;32melse\u001b[0m\u001b[1;33m:\u001b[0m\u001b[1;33m\u001b[0m\u001b[1;33m\u001b[0m\u001b[0m\n\u001b[0;32m    506\u001b[0m           outputs = execute.execute_with_cancellation(\n",
      "\u001b[1;32m~\\.conda\\envs\\condamp\\lib\\site-packages\\tensorflow\\python\\eager\\execute.py\u001b[0m in \u001b[0;36mquick_execute\u001b[1;34m(op_name, num_outputs, inputs, attrs, ctx, name)\u001b[0m\n\u001b[0;32m     53\u001b[0m     \u001b[0mctx\u001b[0m\u001b[1;33m.\u001b[0m\u001b[0mensure_initialized\u001b[0m\u001b[1;33m(\u001b[0m\u001b[1;33m)\u001b[0m\u001b[1;33m\u001b[0m\u001b[1;33m\u001b[0m\u001b[0m\n\u001b[0;32m     54\u001b[0m     tensors = pywrap_tfe.TFE_Py_Execute(ctx._handle, device_name, op_name,\n\u001b[1;32m---> 55\u001b[1;33m                                         inputs, attrs, num_outputs)\n\u001b[0m\u001b[0;32m     56\u001b[0m   \u001b[1;32mexcept\u001b[0m \u001b[0mcore\u001b[0m\u001b[1;33m.\u001b[0m\u001b[0m_NotOkStatusException\u001b[0m \u001b[1;32mas\u001b[0m \u001b[0me\u001b[0m\u001b[1;33m:\u001b[0m\u001b[1;33m\u001b[0m\u001b[1;33m\u001b[0m\u001b[0m\n\u001b[0;32m     57\u001b[0m     \u001b[1;32mif\u001b[0m \u001b[0mname\u001b[0m \u001b[1;32mis\u001b[0m \u001b[1;32mnot\u001b[0m \u001b[1;32mNone\u001b[0m\u001b[1;33m:\u001b[0m\u001b[1;33m\u001b[0m\u001b[1;33m\u001b[0m\u001b[0m\n",
      "\u001b[1;31mKeyboardInterrupt\u001b[0m: "
     ]
    }
   ],
   "source": [
    "model.fit(X_train, Y_train, epochs=2000, callbacks=[tb_callback])"
   ]
  },
  {
   "cell_type": "code",
   "execution_count": 147,
   "id": "db4aaef2-c779-4e2b-aeff-642ca2e868b5",
   "metadata": {},
   "outputs": [
    {
     "name": "stdout",
     "output_type": "stream",
     "text": [
      "Model: \"sequential_3\"\n",
      "_________________________________________________________________\n",
      " Layer (type)                Output Shape              Param #   \n",
      "=================================================================\n",
      " lstm_9 (LSTM)               (None, 30, 64)            82688     \n",
      "                                                                 \n",
      " lstm_10 (LSTM)              (None, 30, 128)           98816     \n",
      "                                                                 \n",
      " lstm_11 (LSTM)              (None, 64)                49408     \n",
      "                                                                 \n",
      " dense_9 (Dense)             (None, 64)                4160      \n",
      "                                                                 \n",
      " dense_10 (Dense)            (None, 32)                2080      \n",
      "                                                                 \n",
      " dense_11 (Dense)            (None, 3)                 99        \n",
      "                                                                 \n",
      "=================================================================\n",
      "Total params: 237,251\n",
      "Trainable params: 237,251\n",
      "Non-trainable params: 0\n",
      "_________________________________________________________________\n"
     ]
    }
   ],
   "source": [
    "model.summary()"
   ]
  },
  {
   "cell_type": "code",
   "execution_count": 162,
   "id": "f6e8d141-20ea-42e3-a354-5fb879ed9149",
   "metadata": {},
   "outputs": [
    {
     "name": "stdout",
     "output_type": "stream",
     "text": [
      "1/1 [==============================] - 0s 70ms/step\n"
     ]
    }
   ],
   "source": [
    "res = model.predict(X_test)"
   ]
  },
  {
   "cell_type": "code",
   "execution_count": 180,
   "id": "04e6cfb6-1d1b-4803-a497-caf1e6942626",
   "metadata": {},
   "outputs": [
    {
     "data": {
      "text/plain": [
       "1.0"
      ]
     },
     "execution_count": 180,
     "metadata": {},
     "output_type": "execute_result"
    }
   ],
   "source": [
    "np.sum(res)"
   ]
  },
  {
   "cell_type": "code",
   "execution_count": 169,
   "id": "c28e28c8-4b43-4ca0-adc6-83948230087f",
   "metadata": {},
   "outputs": [
    {
     "data": {
      "text/plain": [
       "'thumbsUp'"
      ]
     },
     "execution_count": 169,
     "metadata": {},
     "output_type": "execute_result"
    }
   ],
   "source": [
    "actions[np.argmax(res[0])]"
   ]
  },
  {
   "cell_type": "code",
   "execution_count": 171,
   "id": "693c9631-1707-48d4-8624-00d3e3df9d8a",
   "metadata": {},
   "outputs": [
    {
     "data": {
      "text/plain": [
       "'thumbsUp'"
      ]
     },
     "execution_count": 171,
     "metadata": {},
     "output_type": "execute_result"
    }
   ],
   "source": [
    "actions[np.argmax(Y_test[0])]"
   ]
  },
  {
   "cell_type": "code",
   "execution_count": 172,
   "id": "e8db6b9c-cbbe-4f9a-af4c-8602ca9e3448",
   "metadata": {},
   "outputs": [],
   "source": [
    "model.save(\"action.h5\")"
   ]
  },
  {
   "cell_type": "code",
   "execution_count": 173,
   "id": "ecd79010-75a2-4327-8b4e-6ad3c3749f24",
   "metadata": {},
   "outputs": [
    {
     "data": {
      "text/plain": [
       "array([[1.0000000e+00, 3.6169749e-09, 1.6036412e-11],\n",
       "       [8.6566509e-17, 1.0000000e+00, 1.4964719e-38],\n",
       "       [0.0000000e+00, 1.0000000e+00, 0.0000000e+00],\n",
       "       [1.0000000e+00, 2.0073521e-28, 2.2527269e-15],\n",
       "       [9.9763238e-01, 2.3675766e-03, 2.1207857e-17]], dtype=float32)"
      ]
     },
     "execution_count": 173,
     "metadata": {},
     "output_type": "execute_result"
    }
   ],
   "source": [
    "res"
   ]
  },
  {
   "cell_type": "code",
   "execution_count": 174,
   "id": "e8c1cf9a-ffa1-4c0c-b415-ff76e5672b62",
   "metadata": {},
   "outputs": [],
   "source": [
    "colors = [(245,117,16), (117,245,16), (16,117,245)]\n",
    "def prob_viz(res, actions, input_frame, colors):\n",
    "    output_frame = input_frame.copy()\n",
    "    for num, prob in enumerate(res):\n",
    "        cv2.rectangle(output_frame, (0,60+num*40), (int(prob*100), 90+num*40), colors[num], -1)\n",
    "        cv2.putText(output_frame, actions[num], (0, 85+num*40), cv2.FONT_HERSHEY_SIMPLEX, 0.5, (255,255,255), 1, cv2.LINE_AA)\n",
    "        \n",
    "    return output_frame"
   ]
  },
  {
   "cell_type": "code",
   "execution_count": 184,
   "id": "c30f1b8b-7f0d-4d10-80d6-31dad7c1b100",
   "metadata": {},
   "outputs": [
    {
     "name": "stdout",
     "output_type": "stream",
     "text": [
      "1/1 [==============================] - 0s 87ms/step\n",
      "thumbsDown\n",
      "1/1 [==============================] - 0s 70ms/step\n",
      "thumbsDown\n",
      "1/1 [==============================] - 0s 78ms/step\n",
      "thumbsDown\n",
      "1/1 [==============================] - 0s 77ms/step\n",
      "thumbsDown\n",
      "1/1 [==============================] - 0s 75ms/step\n",
      "thumbsDown\n",
      "1/1 [==============================] - 0s 65ms/step\n",
      "thumbsDown\n",
      "1/1 [==============================] - 0s 77ms/step\n",
      "thumbsDown\n",
      "1/1 [==============================] - 0s 74ms/step\n",
      "thumbsDown\n",
      "1/1 [==============================] - 0s 71ms/step\n",
      "thumbsDown\n",
      "1/1 [==============================] - 0s 83ms/step\n",
      "thumbsDown\n",
      "1/1 [==============================] - 0s 81ms/step\n",
      "thumbsDown\n",
      "1/1 [==============================] - 0s 80ms/step\n",
      "thumbsDown\n",
      "1/1 [==============================] - 0s 77ms/step\n",
      "thumbsDown\n",
      "1/1 [==============================] - 0s 74ms/step\n",
      "thumbsDown\n",
      "1/1 [==============================] - 0s 76ms/step\n",
      "thumbsDown\n",
      "1/1 [==============================] - 0s 72ms/step\n",
      "thumbsDown\n",
      "1/1 [==============================] - 0s 80ms/step\n",
      "thumbsDown\n",
      "1/1 [==============================] - 0s 80ms/step\n",
      "thumbsDown\n",
      "1/1 [==============================] - 0s 68ms/step\n",
      "thumbsDown\n",
      "1/1 [==============================] - 0s 80ms/step\n",
      "thumbsDown\n",
      "1/1 [==============================] - 0s 69ms/step\n",
      "thumbsDown\n",
      "1/1 [==============================] - 0s 76ms/step\n",
      "thumbsDown\n",
      "1/1 [==============================] - 0s 69ms/step\n",
      "thumbsDown\n",
      "1/1 [==============================] - 0s 76ms/step\n",
      "thumbsDown\n",
      "1/1 [==============================] - 0s 84ms/step\n",
      "thumbsDown\n",
      "1/1 [==============================] - 0s 70ms/step\n",
      "thumbsDown\n",
      "1/1 [==============================] - 0s 67ms/step\n",
      "thumbsDown\n",
      "1/1 [==============================] - 0s 64ms/step\n",
      "thumbsDown\n",
      "1/1 [==============================] - 0s 60ms/step\n",
      "thumbsDown\n",
      "1/1 [==============================] - 0s 57ms/step\n",
      "thumbsDown\n",
      "1/1 [==============================] - 0s 46ms/step\n",
      "thumbsDown\n",
      "1/1 [==============================] - 0s 47ms/step\n",
      "thumbsDown\n",
      "1/1 [==============================] - 0s 44ms/step\n",
      "thumbsDown\n",
      "1/1 [==============================] - 0s 47ms/step\n",
      "thumbsDown\n",
      "1/1 [==============================] - 0s 54ms/step\n",
      "thumbsDown\n",
      "1/1 [==============================] - 0s 44ms/step\n",
      "thumbsDown\n",
      "1/1 [==============================] - 0s 55ms/step\n",
      "thumbsDown\n",
      "1/1 [==============================] - 0s 45ms/step\n",
      "thumbsDown\n",
      "1/1 [==============================] - 0s 42ms/step\n",
      "thumbsDown\n",
      "1/1 [==============================] - 0s 40ms/step\n",
      "thumbsDown\n",
      "1/1 [==============================] - 0s 39ms/step\n",
      "thumbsDown\n",
      "1/1 [==============================] - 0s 41ms/step\n",
      "thumbsDown\n",
      "1/1 [==============================] - 0s 44ms/step\n",
      "thumbsDown\n",
      "1/1 [==============================] - 0s 62ms/step\n",
      "thumbsDown\n",
      "1/1 [==============================] - 0s 47ms/step\n",
      "thumbsDown\n",
      "1/1 [==============================] - 0s 46ms/step\n",
      "thumbsDown\n",
      "1/1 [==============================] - 0s 42ms/step\n",
      "thumbsDown\n",
      "1/1 [==============================] - 0s 48ms/step\n",
      "thumbsDown\n",
      "1/1 [==============================] - 0s 45ms/step\n",
      "thumbsDown\n",
      "1/1 [==============================] - 0s 51ms/step\n",
      "thumbsDown\n",
      "1/1 [==============================] - 0s 41ms/step\n",
      "thumbsDown\n",
      "1/1 [==============================] - 0s 43ms/step\n",
      "thumbsDown\n",
      "1/1 [==============================] - 0s 46ms/step\n",
      "thumbsDown\n",
      "1/1 [==============================] - 0s 41ms/step\n",
      "thumbsDown\n",
      "1/1 [==============================] - 0s 45ms/step\n",
      "thumbsDown\n",
      "1/1 [==============================] - 0s 43ms/step\n",
      "thumbsDown\n",
      "1/1 [==============================] - 0s 42ms/step\n",
      "thumbsDown\n",
      "1/1 [==============================] - 0s 42ms/step\n",
      "thumbsDown\n",
      "1/1 [==============================] - 0s 43ms/step\n",
      "thumbsDown\n",
      "1/1 [==============================] - 0s 46ms/step\n",
      "thumbsDown\n",
      "1/1 [==============================] - 0s 44ms/step\n",
      "thumbsDown\n",
      "1/1 [==============================] - 0s 56ms/step\n",
      "thumbsDown\n",
      "1/1 [==============================] - 0s 50ms/step\n",
      "thumbsDown\n",
      "1/1 [==============================] - 0s 46ms/step\n",
      "thumbsDown\n",
      "1/1 [==============================] - 0s 56ms/step\n",
      "thumbsDown\n",
      "1/1 [==============================] - 0s 49ms/step\n",
      "thumbsDown\n",
      "1/1 [==============================] - 0s 65ms/step\n",
      "thumbsDown\n",
      "1/1 [==============================] - 0s 63ms/step\n",
      "thumbsDown\n",
      "1/1 [==============================] - 0s 54ms/step\n",
      "thumbsDown\n",
      "1/1 [==============================] - 0s 52ms/step\n",
      "thumbsDown\n",
      "1/1 [==============================] - 0s 48ms/step\n",
      "thumbsDown\n",
      "1/1 [==============================] - 0s 47ms/step\n",
      "thumbsDown\n",
      "1/1 [==============================] - 0s 54ms/step\n",
      "thumbsDown\n",
      "1/1 [==============================] - 0s 70ms/step\n",
      "thumbsDown\n",
      "1/1 [==============================] - 0s 57ms/step\n",
      "thumbsDown\n",
      "1/1 [==============================] - 0s 48ms/step\n",
      "thumbsDown\n",
      "1/1 [==============================] - 0s 48ms/step\n",
      "thumbsDown\n",
      "1/1 [==============================] - 0s 44ms/step\n",
      "thumbsDown\n",
      "1/1 [==============================] - 0s 44ms/step\n",
      "thumbsDown\n",
      "1/1 [==============================] - 0s 43ms/step\n",
      "thumbsDown\n",
      "1/1 [==============================] - 0s 46ms/step\n",
      "thumbsDown\n",
      "1/1 [==============================] - 0s 42ms/step\n",
      "thumbsDown\n",
      "1/1 [==============================] - 0s 45ms/step\n",
      "thumbsDown\n",
      "1/1 [==============================] - 0s 46ms/step\n",
      "thumbsDown\n",
      "1/1 [==============================] - 0s 44ms/step\n",
      "thumbsDown\n",
      "1/1 [==============================] - 0s 43ms/step\n",
      "thumbsDown\n",
      "1/1 [==============================] - 0s 41ms/step\n",
      "thumbsDown\n",
      "1/1 [==============================] - 0s 42ms/step\n",
      "thumbsDown\n",
      "1/1 [==============================] - 0s 42ms/step\n",
      "thumbsDown\n",
      "1/1 [==============================] - 0s 40ms/step\n",
      "thumbsDown\n",
      "1/1 [==============================] - 0s 40ms/step\n",
      "thumbsDown\n",
      "1/1 [==============================] - 0s 46ms/step\n",
      "thumbsDown\n",
      "1/1 [==============================] - 0s 42ms/step\n",
      "thumbsDown\n",
      "1/1 [==============================] - 0s 46ms/step\n",
      "thumbsDown\n",
      "1/1 [==============================] - 0s 48ms/step\n",
      "thumbsDown\n",
      "1/1 [==============================] - 0s 41ms/step\n",
      "thumbsDown\n",
      "1/1 [==============================] - 0s 44ms/step\n",
      "thumbsDown\n",
      "1/1 [==============================] - 0s 46ms/step\n",
      "thumbsDown\n",
      "1/1 [==============================] - 0s 59ms/step\n",
      "thumbsDown\n",
      "1/1 [==============================] - 0s 42ms/step\n",
      "thumbsDown\n",
      "1/1 [==============================] - 0s 42ms/step\n",
      "thumbsDown\n",
      "1/1 [==============================] - 0s 47ms/step\n",
      "thumbsDown\n",
      "1/1 [==============================] - 0s 38ms/step\n",
      "thumbsDown\n",
      "1/1 [==============================] - 0s 42ms/step\n",
      "thumbsDown\n",
      "1/1 [==============================] - 0s 48ms/step\n",
      "thumbsDown\n",
      "1/1 [==============================] - 0s 46ms/step\n",
      "thumbsDown\n",
      "1/1 [==============================] - 0s 47ms/step\n",
      "thumbsDown\n",
      "1/1 [==============================] - 0s 47ms/step\n",
      "thumbsDown\n",
      "1/1 [==============================] - 0s 51ms/step\n",
      "thumbsDown\n",
      "1/1 [==============================] - 0s 44ms/step\n",
      "thumbsDown\n",
      "1/1 [==============================] - 0s 44ms/step\n",
      "thumbsDown\n",
      "1/1 [==============================] - 0s 44ms/step\n",
      "thumbsDown\n",
      "1/1 [==============================] - 0s 46ms/step\n",
      "thumbsDown\n",
      "1/1 [==============================] - 0s 40ms/step\n",
      "thumbsDown\n",
      "1/1 [==============================] - 0s 63ms/step\n",
      "thumbsDown\n",
      "1/1 [==============================] - 0s 43ms/step\n",
      "thumbsDown\n",
      "1/1 [==============================] - 0s 43ms/step\n",
      "thumbsDown\n",
      "1/1 [==============================] - 0s 51ms/step\n",
      "thumbsDown\n",
      "1/1 [==============================] - 0s 40ms/step\n",
      "thumbsDown\n",
      "1/1 [==============================] - 0s 42ms/step\n",
      "thumbsDown\n",
      "1/1 [==============================] - 0s 52ms/step\n",
      "thumbsDown\n"
     ]
    }
   ],
   "source": [
    "#PREDICTION AND TESTING\n",
    "\n",
    "sequence = []\n",
    "sentence = []\n",
    "predictions = []\n",
    "threshold = 0.5\n",
    "\n",
    "cap = cv2.VideoCapture(0)\n",
    "# Set mediapipe model \n",
    "with mp_holistic.Holistic(min_detection_confidence=0.5, min_tracking_confidence=0.5) as holistic:\n",
    "    while cap.isOpened():\n",
    "\n",
    "        # Read feed\n",
    "        ret, frame = cap.read()\n",
    "\n",
    "        # Make detections\n",
    "        image, results = mediapipe_detection(frame, holistic)\n",
    "        #print(results)\n",
    "        \n",
    "        # Draw landmarks\n",
    "        draw_landmarks(image, results)\n",
    "        \n",
    "        # 2. Prediction logic\n",
    "        keypoints = extract_keypoints(results)\n",
    "        sequence.append(keypoints)\n",
    "        sequence = sequence[-30:]\n",
    "        \n",
    "        if len(sequence) == 30:\n",
    "            res = model.predict(np.expand_dims(sequence, axis=0))[0]\n",
    "            print(actions[np.argmax(res)])\n",
    "            predictions.append(np.argmax(res))\n",
    "            \n",
    "            \n",
    "        #3. Viz logic\n",
    "            if np.unique(predictions[-10:])[0]==np.argmax(res): \n",
    "                if res[np.argmax(res)] > threshold: \n",
    "                    if len(sentence) > 0: \n",
    "                        if actions[np.argmax(res)] != sentence[-1]:\n",
    "                            sentence.append(actions[np.argmax(res)])\n",
    "                    else:\n",
    "                        sentence.append(actions[np.argmax(res)])\n",
    "\n",
    "            if len(sentence) > 5: \n",
    "                sentence = sentence[-5:]\n",
    "\n",
    "            # Viz probabilities\n",
    "            image = prob_viz(res, actions, image, colors)\n",
    "            \n",
    "        cv2.rectangle(image, (0,0), (640, 40), (245, 117, 16), -1)\n",
    "        cv2.putText(image, ' '.join(sentence), (3,30), \n",
    "                       cv2.FONT_HERSHEY_SIMPLEX, 0.5, (255, 255, 255), 1, cv2.LINE_AA)\n",
    "        \n",
    "        # Show to screen\n",
    "        cv2.imshow('OpenCV Feed', cv2.cvtColor(image, cv2.COLOR_BGR2RGB))\n",
    "\n",
    "        # Break gracefully\n",
    "        if cv2.waitKey(10) & 0xFF == ord('q'):\n",
    "            break\n",
    "    cap.release()\n",
    "    cv2.destroyAllWindows()"
   ]
  },
  {
   "cell_type": "code",
   "execution_count": null,
   "id": "50a176ff-9df2-452e-bc6a-6debcc0a24c5",
   "metadata": {},
   "outputs": [],
   "source": []
  },
  {
   "cell_type": "code",
   "execution_count": null,
   "id": "926566b1-d868-4f93-89dd-e550d74de08e",
   "metadata": {},
   "outputs": [],
   "source": []
  }
 ],
 "metadata": {
  "kernelspec": {
   "display_name": "condamp",
   "language": "python",
   "name": "condamp"
  },
  "language_info": {
   "codemirror_mode": {
    "name": "ipython",
    "version": 3
   },
   "file_extension": ".py",
   "mimetype": "text/x-python",
   "name": "python",
   "nbconvert_exporter": "python",
   "pygments_lexer": "ipython3",
   "version": "3.7.2"
  }
 },
 "nbformat": 4,
 "nbformat_minor": 5
}
